{
 "cells": [
  {
   "cell_type": "code",
   "execution_count": null,
   "metadata": {},
   "outputs": [],
   "source": [
    "import os\n",
    "import numpy as np\n",
    "import tensorflow as tf\n",
    "from keras.models import Input\n",
    "from tifffile import imwrite\n",
    "from config import CFG\n",
    "from datagenerator import data_generator, data_generator_test\n",
    "from model import UNet_RCAN\n",
    "import matplotlib.pyplot as plt"
   ]
  },
  {
   "cell_type": "code",
   "execution_count": null,
   "metadata": {},
   "outputs": [],
   "source": [
    "gpus = tf.config.list_physical_devices('GPU')\n",
    "if gpus:\n",
    "    try:\n",
    "        tf.config.set_logical_device_configuration(\n",
    "            gpus[0],\n",
    "            [tf.config.LogicalDeviceConfiguration(memory_limit=12000)])\n",
    "        logical_gpus = tf.config.list_logical_devices('GPU')\n",
    "        print(len(gpus), \"Physical GPUs,\", len(logical_gpus), \"Logical GPUs\")\n",
    "    except RuntimeError as e:\n",
    "        print(e)"
   ]
  },
  {
   "cell_type": "code",
   "execution_count": null,
   "metadata": {},
   "outputs": [],
   "source": [
    "data_config = CFG['data_test']\n",
    "model_config = CFG['model']\n",
    "if data_config['train']:\n",
    "    x_test, w_test, y_test = data_generator(data_config)\n",
    "\n",
    "else:\n",
    "    x_test = data_generator_test(data_config)"
   ]
  },
  {
   "cell_type": "code",
   "execution_count": null,
   "metadata": {},
   "outputs": [],
   "source": [
    "patch_size = int(data_config['patch_size']*data_config['scale'])\n",
    "model_input = Input((data_config['patch_size'], data_config['patch_size'], 1))\n",
    "model = eval(model_config['model_type'] + \"(model_input, model_config)\")\n",
    "model(np.zeros((1, data_config['patch_size'], data_config['patch_size'], 1)))\n",
    "model.load_weights(model_config['save_dr'])\n",
    "\n",
    "prediction1 = np.zeros((len(x_test), data_config['patch_size'], data_config['patch_size'], 1))\n",
    "prediction2 = np.zeros((len(x_test), patch_size, patch_size, 1))\n",
    "\n",
    "for i in range(len(x_test)):\n",
    "    prediction = model(x_test[i:i + 1], training=False)\n",
    "    prediction1[i] = prediction['UNet']\n",
    "    prediction2[i] = prediction[model_config['model_type']]\n",
    "    prediction1[i] = prediction1[i] / prediction1[i].max()\n",
    "    prediction2[i] = prediction2[i] / prediction2[i].max()\n",
    "prediction1[prediction1 < 0] = 0\n",
    "prediction2[prediction2 < 0] = 0"
   ]
  },
  {
   "cell_type": "code",
   "execution_count": null,
   "metadata": {
    "cellView": "form",
    "colab": {
     "base_uri": "https://localhost:8080/",
     "height": 708
    },
    "id": "Pl6pCBtNFOko",
    "outputId": "24ecab5f-9ec0-4bd7-8e1d-51ca3bbb8ed3"
   },
   "outputs": [],
   "source": [
    "ix = np.random.randint(len(prediction2))\n",
    "fig = plt.figure(figsize=(40,40))\n",
    "\n",
    "plt.subplot(1, 3, 1)\n",
    "plt.imshow(x_test[ix, :, :, 0] , cmap='magma')\n",
    "plt.title('Low SNR Input',fontdict={'fontsize':20})\n",
    "plt_axis = plt.axis('off')\n",
    "\n",
    "plt.subplot(1, 3, 2)\n",
    "plt.imshow(prediction1[ix, :, :, 0] , cmap='magma')\n",
    "plt.title('Prediction-scaled',fontdict={'fontsize':20})\n",
    "plt_axis = plt.axis('off')\n",
    "\n",
    "plt.subplot(1, 3, 3)\n",
    "plt.imshow(prediction2[ix, :, :, 0] , cmap='magma')\n",
    "plt.title('Prediction',fontdict={'fontsize':20})\n",
    "plt_axis = plt.axis('off')"
   ]
  },
  {
   "cell_type": "code",
   "execution_count": null,
   "metadata": {},
   "outputs": [],
   "source": [
    "if not data_config['train']:\n",
    "    pred1 = (prediction1 * (2 ** 16 - 1)).astype(np.uint16)\n",
    "    pred2 = (prediction2 * (2 ** 16 - 1)).astype(np.uint16)\n",
    "    X_test = (x_test * (2 ** 16 - 1)).astype(np.uint16)\n",
    "    imwrite(os.path.join(data_config['save_dr'], '', 'pred_scaled.tif'), pred1.squeeze(), imagej=True,\n",
    "            metadata={'axes': 'TYX'})\n",
    "    imwrite(os.path.join(data_config['save_dr'], '', 'pred.tif'), pred2.squeeze(), imagej=True,\n",
    "            metadata={'axes': 'TYX'})\n",
    "    imwrite(os.path.join(data_config['save_dr'], '', 'noisy.tif'), X_test.squeeze(), imagej=True,\n",
    "            metadata={'axes': 'TYX'})\n",
    "if data_config['train']:\n",
    "    Y_test = (y_test * (2 ** 16 - 1)).astype(np.uint16)\n",
    "    imwrite(os.path.join(data_config['save_dr'], '', 'gt.tif'), Y_test.squeeze(), imagej=True, metadata={'axes': 'TYX'})"
   ]
  },
  {
   "cell_type": "code",
   "execution_count": null,
   "metadata": {},
   "outputs": [],
   "source": []
  }
 ],
 "metadata": {
  "accelerator": "GPU",
  "colab": {
   "collapsed_sections": [],
   "name": "Denoising_UNET_RCAN_3D.ipynb",
   "provenance": []
  },
  "gpuClass": "standard",
  "kernelspec": {
   "display_name": "Python 3 (ipykernel)",
   "language": "python",
   "name": "python3"
  },
  "language_info": {
   "codemirror_mode": {
    "name": "ipython",
    "version": 3
   },
   "file_extension": ".py",
   "mimetype": "text/x-python",
   "name": "python",
   "nbconvert_exporter": "python",
   "pygments_lexer": "ipython3",
   "version": "3.8.0"
  }
 },
 "nbformat": 4,
 "nbformat_minor": 1
}
